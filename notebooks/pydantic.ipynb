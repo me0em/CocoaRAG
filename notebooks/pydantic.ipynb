{
 "cells": [
  {
   "cell_type": "code",
   "execution_count": 1,
   "metadata": {},
   "outputs": [
    {
     "name": "stdout",
     "output_type": "stream",
     "text": [
      "Python 3.12.6\n"
     ]
    }
   ],
   "source": [
    "!python --version"
   ]
  },
  {
   "cell_type": "markdown",
   "metadata": {},
   "source": [
    "# Pydantic: Simplimfying Data Validation in Python\n",
    "\n",
    "Pydantic provides four ways to create schemas and perform validation and serialization:\n",
    "\n",
    "* **BaseModel** — Pydantic's own super class with many common utilities available via instance methods.\n",
    "* **Pydantic dataclasses** — a wrapper around standard dataclasses with additional validation performed.\n",
    "* **TypeAdapter** — a general way to adapt any type for validation and serialization. This allows types like TypedDict and NamedTuple to be validated as well as simple types (like int or timedelta) — all types supported can be used with TypeAdapter.\n",
    "* **validate_call** — a decorator to perform validation when calling a function."
   ]
  },
  {
   "cell_type": "code",
   "execution_count": 9,
   "metadata": {},
   "outputs": [
    {
     "name": "stdout",
     "output_type": "stream",
     "text": [
      "2.9.2\n"
     ]
    }
   ],
   "source": [
    "import pydantic\n",
    "\n",
    "print(pydantic.__version__)"
   ]
  },
  {
   "cell_type": "markdown",
   "metadata": {},
   "source": [
    "# Example"
   ]
  },
  {
   "cell_type": "code",
   "execution_count": 16,
   "metadata": {},
   "outputs": [],
   "source": [
    "# потому что pydantic будет применять свою встроенную проверку email и короче без этого след ячейка упадет\n",
    "!pip install pydantic[email] -q"
   ]
  },
  {
   "cell_type": "code",
   "execution_count": 189,
   "metadata": {},
   "outputs": [],
   "source": [
    "from datetime import date\n",
    "from uuid import UUID, uuid4\n",
    "from enum import Enum\n",
    "from pydantic import BaseModel, EmailStr\n",
    "\n",
    "\n",
    "class Department(Enum):\n",
    "    HR = \"HR\"\n",
    "    SALES = \"SALES\"\n",
    "    IT = \"IT\"\n",
    "    ENGINEERING = \"ENGINEERING\"\n",
    "\n",
    "\n",
    "class Employee(BaseModel):\n",
    "    employee_id: UUID = uuid4()\n",
    "    name: str\n",
    "    email: EmailStr\n",
    "    date_of_birth: date\n",
    "    salary: float\n",
    "    department: Department\n",
    "    elected_benefits: bool"
   ]
  },
  {
   "cell_type": "markdown",
   "metadata": {},
   "source": [
    "* **employee_id**: This is the UUID for the employee you want to store information for. By using the UUID annotation, __Pydantic ensures this field is always a valid UUID__. Each instance of Employee will be assigned a UUID by default, as you specified by calling uuid4().\n",
    "* **name**: The employee’s name, which Pydantic expects to be a string.\n",
    "* **email**: __Pydantic will ensure that each employee email is valid by using Python’s email-validator library under the hood.__\n",
    "* **date_of_birth**: Each employee’s date of birth must be a valid date, as annotated by date from Python’s datetime module. If you pass a string into date_of_birth, **Pydantic will attempt to parse and convert it to a date object**.\n",
    "* **salary**: This is the employee’s salary, and it’s expected to be a float.\n",
    "* **department**: Each employee’s department must be one of HR, SALES, IT, or ENGINEERING, as defined in your Department enum.\n",
    "elected_benefits: This field stores whether the employee has elected benefits, and Pydantic expects it to be a Boolean."
   ]
  },
  {
   "cell_type": "markdown",
   "metadata": {},
   "source": [
    "### Pydantic valid data"
   ]
  },
  {
   "cell_type": "code",
   "execution_count": 190,
   "metadata": {},
   "outputs": [
    {
     "name": "stdout",
     "output_type": "stream",
     "text": [
      "<class '__main__.Employee'>\n",
      "employee_id=UUID('975af7cd-9063-4ce2-8bcd-cbe5e6a79152') name='Sasha Gau' email='cdetuma@example.com' date_of_birth=datetime.date(1998, 4, 2) salary=123000.0 department=<Department.IT: 'IT'> elected_benefits=True\n"
     ]
    }
   ],
   "source": [
    "#### Засунем то, что и ожидаем увидеть\n",
    "\n",
    "new_entity = Employee(\n",
    "    name=\"Sasha Gau\",\n",
    "    email=\"cdetuma@example.com\",\n",
    "    date_of_birth=\"1998-04-02\",\n",
    "    salary=123_000.00,\n",
    "    department=\"IT\",\n",
    "    elected_benefits=True,\n",
    ")\n",
    "\n",
    "print(type(new_entity), new_entity, sep=\"\\n\")"
   ]
  },
  {
   "cell_type": "code",
   "execution_count": 191,
   "metadata": {},
   "outputs": [
    {
     "name": "stdout",
     "output_type": "stream",
     "text": [
      "Sasha Gau\n"
     ]
    }
   ],
   "source": [
    "print(new_entity.name)"
   ]
  },
  {
   "cell_type": "markdown",
   "metadata": {},
   "source": [
    "Короче отработал и не обоссался, теперь говна братишке с фронта подкинем"
   ]
  },
  {
   "cell_type": "markdown",
   "metadata": {},
   "source": [
    "### Pydantic invalid data"
   ]
  },
  {
   "cell_type": "code",
   "execution_count": 192,
   "metadata": {},
   "outputs": [
    {
     "name": "stdout",
     "output_type": "stream",
     "text": [
      "Error processing new slave. Trace ID: __ \n",
      "Error: 7 validation errors for Employee\n",
      "employee_id\n",
      "  Input should be a valid UUID, invalid length: expected length 32 for simple format, found 3 [type=uuid_parsing, input_value='123', input_type=str]\n",
      "    For further information visit https://errors.pydantic.dev/2.9/v/uuid_parsing\n",
      "name\n",
      "  Input should be a valid string [type=string_type, input_value=False, input_type=bool]\n",
      "    For further information visit https://errors.pydantic.dev/2.9/v/string_type\n",
      "email\n",
      "  value is not a valid email address: An email address must have an @-sign. [type=value_error, input_value='cdetumaexamplecom', input_type=str]\n",
      "date_of_birth\n",
      "  Input should be a valid date or datetime, invalid date separator, expected `-` [type=date_from_datetime_parsing, input_value='1939804-02', input_type=str]\n",
      "    For further information visit https://errors.pydantic.dev/2.9/v/date_from_datetime_parsing\n",
      "salary\n",
      "  Input should be a valid number, unable to parse string as a number [type=float_parsing, input_value='high paying', input_type=str]\n",
      "    For further information visit https://errors.pydantic.dev/2.9/v/float_parsing\n",
      "department\n",
      "  Input should be 'HR', 'SALES', 'IT' or 'ENGINEERING' [type=enum, input_value='PRODUCT', input_type=str]\n",
      "    For further information visit https://errors.pydantic.dev/2.9/v/enum\n",
      "elected_benefits\n",
      "  Input should be a valid boolean, unable to interpret input [type=bool_parsing, input_value=300, input_type=int]\n",
      "    For further information visit https://errors.pydantic.dev/2.9/v/bool_parsing\n"
     ]
    },
    {
     "ename": "ValidationError",
     "evalue": "7 validation errors for Employee\nemployee_id\n  Input should be a valid UUID, invalid length: expected length 32 for simple format, found 3 [type=uuid_parsing, input_value='123', input_type=str]\n    For further information visit https://errors.pydantic.dev/2.9/v/uuid_parsing\nname\n  Input should be a valid string [type=string_type, input_value=False, input_type=bool]\n    For further information visit https://errors.pydantic.dev/2.9/v/string_type\nemail\n  value is not a valid email address: An email address must have an @-sign. [type=value_error, input_value='cdetumaexamplecom', input_type=str]\ndate_of_birth\n  Input should be a valid date or datetime, invalid date separator, expected `-` [type=date_from_datetime_parsing, input_value='1939804-02', input_type=str]\n    For further information visit https://errors.pydantic.dev/2.9/v/date_from_datetime_parsing\nsalary\n  Input should be a valid number, unable to parse string as a number [type=float_parsing, input_value='high paying', input_type=str]\n    For further information visit https://errors.pydantic.dev/2.9/v/float_parsing\ndepartment\n  Input should be 'HR', 'SALES', 'IT' or 'ENGINEERING' [type=enum, input_value='PRODUCT', input_type=str]\n    For further information visit https://errors.pydantic.dev/2.9/v/enum\nelected_benefits\n  Input should be a valid boolean, unable to interpret input [type=bool_parsing, input_value=300, input_type=int]\n    For further information visit https://errors.pydantic.dev/2.9/v/bool_parsing",
     "output_type": "error",
     "traceback": [
      "\u001b[1;31m---------------------------------------------------------------------------\u001b[0m",
      "\u001b[1;31mValidationError\u001b[0m                           Traceback (most recent call last)",
      "Cell \u001b[1;32mIn[192], line 2\u001b[0m\n\u001b[0;32m      1\u001b[0m \u001b[38;5;28;01mtry\u001b[39;00m:\n\u001b[1;32m----> 2\u001b[0m     \u001b[43mEmployee\u001b[49m\u001b[43m(\u001b[49m\n\u001b[0;32m      3\u001b[0m \u001b[43m        \u001b[49m\u001b[43memployee_id\u001b[49m\u001b[38;5;241;43m=\u001b[39;49m\u001b[38;5;124;43m\"\u001b[39;49m\u001b[38;5;124;43m123\u001b[39;49m\u001b[38;5;124;43m\"\u001b[39;49m\u001b[43m,\u001b[49m\n\u001b[0;32m      4\u001b[0m \u001b[43m        \u001b[49m\u001b[43mname\u001b[49m\u001b[38;5;241;43m=\u001b[39;49m\u001b[43m(\u001b[49m\u001b[38;5;124;43m'\u001b[39;49m\u001b[38;5;124;43mSasha not gau\u001b[39;49m\u001b[38;5;124;43m'\u001b[39;49m\u001b[43m \u001b[49m\u001b[38;5;241;43m==\u001b[39;49m\u001b[43m \u001b[49m\u001b[38;5;28;43;01mTrue\u001b[39;49;00m\u001b[43m)\u001b[49m\u001b[43m,\u001b[49m\n\u001b[0;32m      5\u001b[0m \u001b[43m        \u001b[49m\u001b[43memail\u001b[49m\u001b[38;5;241;43m=\u001b[39;49m\u001b[38;5;124;43m\"\u001b[39;49m\u001b[38;5;124;43mcdetumaexamplecom\u001b[39;49m\u001b[38;5;124;43m\"\u001b[39;49m\u001b[43m,\u001b[49m\n\u001b[0;32m      6\u001b[0m \u001b[43m        \u001b[49m\u001b[43mdate_of_birth\u001b[49m\u001b[38;5;241;43m=\u001b[39;49m\u001b[38;5;124;43m\"\u001b[39;49m\u001b[38;5;124;43m1939804-02\u001b[39;49m\u001b[38;5;124;43m\"\u001b[39;49m\u001b[43m,\u001b[49m\n\u001b[0;32m      7\u001b[0m \u001b[43m        \u001b[49m\u001b[43msalary\u001b[49m\u001b[38;5;241;43m=\u001b[39;49m\u001b[38;5;124;43m\"\u001b[39;49m\u001b[38;5;124;43mhigh paying\u001b[39;49m\u001b[38;5;124;43m\"\u001b[39;49m\u001b[43m,\u001b[49m\n\u001b[0;32m      8\u001b[0m \u001b[43m        \u001b[49m\u001b[43mdepartment\u001b[49m\u001b[38;5;241;43m=\u001b[39;49m\u001b[38;5;124;43m\"\u001b[39;49m\u001b[38;5;124;43mPRODUCT\u001b[39;49m\u001b[38;5;124;43m\"\u001b[39;49m\u001b[43m,\u001b[49m\n\u001b[0;32m      9\u001b[0m \u001b[43m        \u001b[49m\u001b[43melected_benefits\u001b[49m\u001b[38;5;241;43m=\u001b[39;49m\u001b[38;5;241;43m300\u001b[39;49m\u001b[43m,\u001b[49m\n\u001b[0;32m     10\u001b[0m \u001b[43m    \u001b[49m\u001b[43m)\u001b[49m\n\u001b[0;32m     11\u001b[0m \u001b[38;5;28;01mexcept\u001b[39;00m \u001b[38;5;167;01mException\u001b[39;00m \u001b[38;5;28;01mas\u001b[39;00m e:\n\u001b[0;32m     12\u001b[0m     \u001b[38;5;28mprint\u001b[39m(\u001b[38;5;124mf\u001b[39m\u001b[38;5;124m\"\u001b[39m\u001b[38;5;124mError processing new slave. Trace ID: __ \u001b[39m\u001b[38;5;130;01m\\n\u001b[39;00m\u001b[38;5;124mError: \u001b[39m\u001b[38;5;132;01m{\u001b[39;00me\u001b[38;5;132;01m}\u001b[39;00m\u001b[38;5;124m\"\u001b[39m)\n",
      "File \u001b[1;32mc:\\Users\\PKomarov\\envs\\sasha_rag\\Lib\\site-packages\\pydantic\\main.py:212\u001b[0m, in \u001b[0;36mBaseModel.__init__\u001b[1;34m(self, **data)\u001b[0m\n\u001b[0;32m    210\u001b[0m \u001b[38;5;66;03m# `__tracebackhide__` tells pytest and some other tools to omit this function from tracebacks\u001b[39;00m\n\u001b[0;32m    211\u001b[0m __tracebackhide__ \u001b[38;5;241m=\u001b[39m \u001b[38;5;28;01mTrue\u001b[39;00m\n\u001b[1;32m--> 212\u001b[0m validated_self \u001b[38;5;241m=\u001b[39m \u001b[38;5;28;43mself\u001b[39;49m\u001b[38;5;241;43m.\u001b[39;49m\u001b[43m__pydantic_validator__\u001b[49m\u001b[38;5;241;43m.\u001b[39;49m\u001b[43mvalidate_python\u001b[49m\u001b[43m(\u001b[49m\u001b[43mdata\u001b[49m\u001b[43m,\u001b[49m\u001b[43m \u001b[49m\u001b[43mself_instance\u001b[49m\u001b[38;5;241;43m=\u001b[39;49m\u001b[38;5;28;43mself\u001b[39;49m\u001b[43m)\u001b[49m\n\u001b[0;32m    213\u001b[0m \u001b[38;5;28;01mif\u001b[39;00m \u001b[38;5;28mself\u001b[39m \u001b[38;5;129;01mis\u001b[39;00m \u001b[38;5;129;01mnot\u001b[39;00m validated_self:\n\u001b[0;32m    214\u001b[0m     warnings\u001b[38;5;241m.\u001b[39mwarn(\n\u001b[0;32m    215\u001b[0m         \u001b[38;5;124m'\u001b[39m\u001b[38;5;124mA custom validator is returning a value other than `self`.\u001b[39m\u001b[38;5;130;01m\\n\u001b[39;00m\u001b[38;5;124m'\u001b[39m\n\u001b[0;32m    216\u001b[0m         \u001b[38;5;124m\"\u001b[39m\u001b[38;5;124mReturning anything other than `self` from a top level model validator isn\u001b[39m\u001b[38;5;124m'\u001b[39m\u001b[38;5;124mt supported when validating via `__init__`.\u001b[39m\u001b[38;5;130;01m\\n\u001b[39;00m\u001b[38;5;124m\"\u001b[39m\n\u001b[0;32m    217\u001b[0m         \u001b[38;5;124m'\u001b[39m\u001b[38;5;124mSee the `model_validator` docs (https://docs.pydantic.dev/latest/concepts/validators/#model-validators) for more details.\u001b[39m\u001b[38;5;124m'\u001b[39m,\n\u001b[0;32m    218\u001b[0m         category\u001b[38;5;241m=\u001b[39m\u001b[38;5;28;01mNone\u001b[39;00m,\n\u001b[0;32m    219\u001b[0m     )\n",
      "\u001b[1;31mValidationError\u001b[0m: 7 validation errors for Employee\nemployee_id\n  Input should be a valid UUID, invalid length: expected length 32 for simple format, found 3 [type=uuid_parsing, input_value='123', input_type=str]\n    For further information visit https://errors.pydantic.dev/2.9/v/uuid_parsing\nname\n  Input should be a valid string [type=string_type, input_value=False, input_type=bool]\n    For further information visit https://errors.pydantic.dev/2.9/v/string_type\nemail\n  value is not a valid email address: An email address must have an @-sign. [type=value_error, input_value='cdetumaexamplecom', input_type=str]\ndate_of_birth\n  Input should be a valid date or datetime, invalid date separator, expected `-` [type=date_from_datetime_parsing, input_value='1939804-02', input_type=str]\n    For further information visit https://errors.pydantic.dev/2.9/v/date_from_datetime_parsing\nsalary\n  Input should be a valid number, unable to parse string as a number [type=float_parsing, input_value='high paying', input_type=str]\n    For further information visit https://errors.pydantic.dev/2.9/v/float_parsing\ndepartment\n  Input should be 'HR', 'SALES', 'IT' or 'ENGINEERING' [type=enum, input_value='PRODUCT', input_type=str]\n    For further information visit https://errors.pydantic.dev/2.9/v/enum\nelected_benefits\n  Input should be a valid boolean, unable to interpret input [type=bool_parsing, input_value=300, input_type=int]\n    For further information visit https://errors.pydantic.dev/2.9/v/bool_parsing"
     ]
    }
   ],
   "source": [
    "try:\n",
    "    Employee(\n",
    "        employee_id=\"123\",\n",
    "        name=(\"Sasha not gau\" == True),\n",
    "        email=\"cdetumaexamplecom\",\n",
    "        date_of_birth=\"1939804-02\",\n",
    "        salary=\"high paying\",\n",
    "        department=\"PRODUCT\",\n",
    "        elected_benefits=300,\n",
    "    )\n",
    "except Exception as e:\n",
    "    print(f\"Error processing new slave. Trace ID: __ \\nError: {e}\")\n",
    "\n",
    "    raise"
   ]
  },
  {
   "cell_type": "markdown",
   "metadata": {},
   "source": [
    "<b> Как видно, братишка по дефолту ругается, если в него подают не те данные, которые он ожидает и выводит ошибку по каждому полю"
   ]
  },
  {
   "cell_type": "markdown",
   "metadata": {},
   "source": [
    "### Error Handling\n",
    "\n",
    "<b> Errors, которые кидает pydantic можно кастомизировать по каждому из полей для валидации [тык тык](https://docs.pydantic.dev/latest/errors/errors/)"
   ]
  },
  {
   "cell_type": "code",
   "execution_count": 193,
   "metadata": {},
   "outputs": [
    {
     "name": "stdout",
     "output_type": "stream",
     "text": [
      "{'type': 'uuid_parsing', 'loc': ('employee_id',), 'msg': 'Input should be a valid UUID, invalid length: expected length 32 for simple format, found 3', 'input': '123', 'ctx': {'error': 'invalid length: expected length 32 for simple format, found 3'}, 'url': 'https://errors.pydantic.dev/2.9/v/uuid_parsing'}\n",
      "{'type': 'string_type', 'loc': ('name',), 'msg': 'Input should be a valid string', 'input': False, 'url': 'https://errors.pydantic.dev/2.9/v/string_type'}\n",
      "{'type': 'value_error', 'loc': ('email',), 'msg': 'value is not a valid email address: An email address must have an @-sign.', 'input': 'cdetumaexamplecom', 'ctx': {'reason': 'An email address must have an @-sign.'}}\n",
      "{'type': 'date_from_datetime_parsing', 'loc': ('date_of_birth',), 'msg': 'Input should be a valid date or datetime, invalid date separator, expected `-`', 'input': '1939804-02', 'ctx': {'error': 'invalid date separator, expected `-`'}, 'url': 'https://errors.pydantic.dev/2.9/v/date_from_datetime_parsing'}\n",
      "{'type': 'float_parsing', 'loc': ('salary',), 'msg': 'Input should be a valid number, unable to parse string as a number', 'input': 'high paying', 'url': 'https://errors.pydantic.dev/2.9/v/float_parsing'}\n",
      "{'type': 'enum', 'loc': ('department',), 'msg': \"Input should be 'HR', 'SALES', 'IT' or 'ENGINEERING'\", 'input': 'PRODUCT', 'ctx': {'expected': \"'HR', 'SALES', 'IT' or 'ENGINEERING'\"}, 'url': 'https://errors.pydantic.dev/2.9/v/enum'}\n",
      "{'type': 'bool_parsing', 'loc': ('elected_benefits',), 'msg': 'Input should be a valid boolean, unable to interpret input', 'input': 300, 'url': 'https://errors.pydantic.dev/2.9/v/bool_parsing'}\n"
     ]
    }
   ],
   "source": [
    "from pydantic import ValidationError\n",
    "\n",
    "\n",
    "try:\n",
    "    Employee(\n",
    "        employee_id=\"123\",\n",
    "        name=(\"Sasha not gau\" == True),\n",
    "        email=\"cdetumaexamplecom\",\n",
    "        date_of_birth=\"1939804-02\",\n",
    "        salary=\"high paying\",\n",
    "        department=\"PRODUCT\",\n",
    "        elected_benefits=300,\n",
    "    )\n",
    "except ValidationError as e:\n",
    "    for er in e.errors():\n",
    "        print(er)"
   ]
  },
  {
   "cell_type": "markdown",
   "metadata": {},
   "source": [
    "### Custom Error"
   ]
  },
  {
   "cell_type": "code",
   "execution_count": 194,
   "metadata": {},
   "outputs": [],
   "source": [
    "from pydantic import BaseModel, ValidationError, field_validator\n",
    "\n",
    "\n",
    "class Model(BaseModel):\n",
    "    foo: str\n",
    "\n",
    "    @field_validator(\"foo\")\n",
    "    def value_must_equal_bar(cls, v):\n",
    "        if v != \"bar\":\n",
    "            raise ValueError('value must be \"bar\"')\n",
    "        return v"
   ]
  },
  {
   "cell_type": "code",
   "execution_count": 195,
   "metadata": {},
   "outputs": [
    {
     "name": "stdout",
     "output_type": "stream",
     "text": [
      "1 validation error for Model\n",
      "foo\n",
      "  Value error, value must be \"bar\" [type=value_error, input_value='ber', input_type=str]\n",
      "    For further information visit https://errors.pydantic.dev/2.9/v/value_error\n",
      "[{'type': 'value_error', 'loc': ('foo',), 'msg': 'Value error, value must be \"bar\"', 'input': 'ber', 'ctx': {'error': ValueError('value must be \"bar\"')}, 'url': 'https://errors.pydantic.dev/2.9/v/value_error'}]\n",
      "value must be \"bar\"\n"
     ]
    }
   ],
   "source": [
    "try:\n",
    "    Model(foo=\"ber\")\n",
    "except ValidationError as e:\n",
    "    print(e)\n",
    "    print(e.errors())\n",
    "    print(e.errors()[0][\"ctx\"][\"error\"])"
   ]
  },
  {
   "cell_type": "markdown",
   "metadata": {},
   "source": [
    "### Get data from dictionary\n",
    "\n",
    "Pydantic’s BaseModel is equipped with a suite of methods that make it easy to create models from other objects, such as dictionaries and JSON."
   ]
  },
  {
   "cell_type": "code",
   "execution_count": 204,
   "metadata": {},
   "outputs": [
    {
     "name": "stdout",
     "output_type": "stream",
     "text": [
      "Сам присвоил id, но как? : 975af7cd-9063-4ce2-8bcd-cbe5e6a79152\n",
      "Распарсил зарплату, ведь мы хотели float: 100000.0\n"
     ]
    }
   ],
   "source": [
    "\"\"\"\n",
    "Напоминаю, что наш класс:\n",
    "\n",
    "class Employee(BaseModel):\n",
    "    employee_id: UUID = uuid4()\n",
    "    name: str\n",
    "    email: EmailStr\n",
    "    date_of_birth: date\n",
    "    salary: float\n",
    "    department: Department\n",
    "    elected_benefits: bool\n",
    "\"\"\"\n",
    "\n",
    "try:\n",
    "    employee_data = {\n",
    "        \"name\": \"Clyde Harwell\",\n",
    "        \"email\": \"charwell@example.com\",\n",
    "        \"date_of_birth\": \"2000-06-12\",\n",
    "        \"salary\": 100_000,\n",
    "        \"department\": \"ENGINEERING\",\n",
    "        \"elected_benefits\": True,\n",
    "    }\n",
    "\n",
    "    # employee = Employee.model_validate(employee_data)\n",
    "    employee = Employee(**employee_data)\n",
    "except ValidationError as e:\n",
    "    for er in e.errors():\n",
    "        print(er)\n",
    "\n",
    "print(\"Сам присвоил id, но как? :\", employee.employee_id)\n",
    "print(\"Распарсил зарплату, ведь мы хотели float:\", employee.salary)"
   ]
  },
  {
   "cell_type": "markdown",
   "metadata": {},
   "source": [
    "### Get data from JSON Statham using .model_validate_json()"
   ]
  },
  {
   "cell_type": "code",
   "execution_count": 205,
   "metadata": {},
   "outputs": [
    {
     "data": {
      "text/plain": [
       "Employee(employee_id=UUID('d2e7b773-926b-49df-939a-5e98cbb9c9eb'), name='Eric Slogrenta', email='eslogrenta@example.com', date_of_birth=datetime.date(1990, 1, 2), salary=125000.0, department=<Department.HR: 'HR'>, elected_benefits=False)"
      ]
     },
     "execution_count": 205,
     "metadata": {},
     "output_type": "execute_result"
    }
   ],
   "source": [
    "new_employee_json = \"\"\"\n",
    "{\"employee_id\":\"d2e7b773-926b-49df-939a-5e98cbb9c9eb\",\n",
    "\"name\":\"Eric Slogrenta\",\n",
    "\"email\":\"eslogrenta@example.com\",\n",
    "\"date_of_birth\":\"1990-01-02\",\n",
    "\"salary\":125000.0,\n",
    "\"department\":\"HR\",\n",
    "\"elected_benefits\":false}\n",
    "\"\"\"\n",
    "\n",
    "try:\n",
    "    new_employee = Employee.model_validate_json(new_employee_json)\n",
    "    # new_employee = Employee.model_validate_json(new_employee_json)\n",
    "except ValidationError as e:\n",
    "    for er in e.errors():\n",
    "        print(er)\n",
    "\n",
    "new_employee"
   ]
  },
  {
   "cell_type": "markdown",
   "metadata": {},
   "source": [
    "### Serialize Pydantic models as dictionaries and JSON\n",
    "\n",
    "Тут какбы встает вопрос зачем и нахуя, может какие-то <b>большие файлы придут"
   ]
  },
  {
   "cell_type": "code",
   "execution_count": 206,
   "metadata": {},
   "outputs": [
    {
     "data": {
      "text/plain": [
       "{'employee_id': UUID('d2e7b773-926b-49df-939a-5e98cbb9c9eb'),\n",
       " 'name': 'Eric Slogrenta',\n",
       " 'email': 'eslogrenta@example.com',\n",
       " 'date_of_birth': datetime.date(1990, 1, 2),\n",
       " 'salary': 125000.0,\n",
       " 'department': <Department.HR: 'HR'>,\n",
       " 'elected_benefits': False}"
      ]
     },
     "execution_count": 206,
     "metadata": {},
     "output_type": "execute_result"
    }
   ],
   "source": [
    "new_employee.model_dump()"
   ]
  },
  {
   "cell_type": "code",
   "execution_count": 207,
   "metadata": {},
   "outputs": [
    {
     "data": {
      "text/plain": [
       "'{\"employee_id\":\"d2e7b773-926b-49df-939a-5e98cbb9c9eb\",\"name\":\"Eric Slogrenta\",\"email\":\"eslogrenta@example.com\",\"date_of_birth\":\"1990-01-02\",\"salary\":125000.0,\"department\":\"HR\",\"elected_benefits\":false}'"
      ]
     },
     "execution_count": 207,
     "metadata": {},
     "output_type": "execute_result"
    }
   ],
   "source": [
    "new_employee.model_dump_json()"
   ]
  },
  {
   "cell_type": "markdown",
   "metadata": {},
   "source": [
    "Here, you use .model_dump() and .model_dump_json() to convert your new_employee model to a dictionary and JSON string, respectively. Notice how .model_dump_json() returns a JSON object with date_of_birth and department stored as strings."
   ]
  },
  {
   "cell_type": "code",
   "execution_count": 208,
   "metadata": {},
   "outputs": [
    {
     "data": {
      "text/plain": [
       "{'$defs': {'Department': {'enum': ['HR', 'SALES', 'IT', 'ENGINEERING'],\n",
       "   'title': 'Department',\n",
       "   'type': 'string'}},\n",
       " 'properties': {'employee_id': {'default': '975af7cd-9063-4ce2-8bcd-cbe5e6a79152',\n",
       "   'format': 'uuid',\n",
       "   'title': 'Employee Id',\n",
       "   'type': 'string'},\n",
       "  'name': {'title': 'Name', 'type': 'string'},\n",
       "  'email': {'format': 'email', 'title': 'Email', 'type': 'string'},\n",
       "  'date_of_birth': {'format': 'date',\n",
       "   'title': 'Date Of Birth',\n",
       "   'type': 'string'},\n",
       "  'salary': {'title': 'Salary', 'type': 'number'},\n",
       "  'department': {'$ref': '#/$defs/Department'},\n",
       "  'elected_benefits': {'title': 'Elected Benefits', 'type': 'boolean'}},\n",
       " 'required': ['name',\n",
       "  'email',\n",
       "  'date_of_birth',\n",
       "  'salary',\n",
       "  'department',\n",
       "  'elected_benefits'],\n",
       " 'title': 'Employee',\n",
       " 'type': 'object'}"
      ]
     },
     "execution_count": 208,
     "metadata": {},
     "output_type": "execute_result"
    }
   ],
   "source": [
    "Employee.model_json_schema()"
   ]
  },
  {
   "cell_type": "markdown",
   "metadata": {},
   "source": [
    "When you call .model_json_schema(), you get a dictionary representing your model’s JSON schema."
   ]
  },
  {
   "cell_type": "markdown",
   "metadata": {},
   "source": [
    "## Using Fields for Customization and Metadata\n",
    "\n",
    "Ознакомиться с полями можно [тут](https://docs.pydantic.dev/latest/api/fields/)\n",
    "\n",
    "А еще ты спросил что такое ... в Field -> [кто нажмет, тот гей](https://github.com/pydantic/pydantic/discussions/8188)\n",
    "\n",
    "The Field class allows you to customize and add metadata to your model’s fields. To see how this works, take a look at this example:"
   ]
  },
  {
   "cell_type": "code",
   "execution_count": 78,
   "metadata": {},
   "outputs": [],
   "source": [
    "from datetime import date\n",
    "from uuid import UUID, uuid4\n",
    "from enum import Enum\n",
    "from pydantic import BaseModel, EmailStr, Field\n",
    "\n",
    "\n",
    "class Department(Enum):\n",
    "    HR = \"HR\"\n",
    "    SALES = \"SALES\"\n",
    "    IT = \"IT\"\n",
    "    ENGINEERING = \"ENGINEERING\"\n",
    "\n",
    "\n",
    "class Employee_field(BaseModel):\n",
    "    employee_id: UUID = Field(default_factory=uuid4, frozen=True)\n",
    "    name: str = Field(min_length=1, frozen=True)\n",
    "    email: EmailStr = Field(pattern=r\".+@example\\.com$\")\n",
    "    date_of_birth: date = Field(alias=\"birth_date\", repr=False, frozen=True)\n",
    "    salary: float = Field(alias=\"compensation\", gt=0, repr=False)\n",
    "    department: Department\n",
    "    elected_benefits: bool"
   ]
  },
  {
   "cell_type": "markdown",
   "metadata": {},
   "source": [
    "* **default_factory**: You use this to define a callable that generates default values. In the example above, you set __default_factory to uuid4. This calls uuid4() to generate a random UUID for employee_id when needed__. You can also use a lambda function for more flexibility.\n",
    "* **frozen**: This is a Boolean parameter you can set to make your fields immutable. This means, __when frozen is set to True, the corresponding field can’t be changed after your model is instantiated__. In this example, employee_id, name, and date_of_birth are made immutable using the frozen parameter.\n",
    "* **min_length**: You can __control the length of string fields with min_length and max_length__. In the example above, you ensure that name is at least one character long.\n",
    "* **pattern**: For string fields, you can __set pattern to a regex expression to match whatever pattern you’re expecting__ for that field. For instance, when you use the regex expression in the example above for email, Pydantic will ensure that every email ends with @example.com.\n",
    "* **alias**: You can use this parameter when you want to assign an alias to your fields. For example, __you can allow date_of_birth to be called birth_date or salary to be called compensation__. You can use these aliases when instantiating or serializing a model.\n",
    "* **gt**: This parameter, short for __“greater than”__, is used for numeric fields to __set minimum values__. In this example, setting gt=0 ensures salary is always a positive number. Pydantic also has other numeric constraints, such as lt which is short for “less than”.\n",
    "* **repr**: This Boolean parameter determines whether a field is __displayed in the model’s field__ representation. __In this example, you won’t see date_of_birth or salary when you print an Employee instance.__"
   ]
  },
  {
   "cell_type": "markdown",
   "metadata": {},
   "source": [
    "<b> Специально для тебя, валенок, посмотрим как это работает, бл"
   ]
  },
  {
   "cell_type": "code",
   "execution_count": 81,
   "metadata": {},
   "outputs": [
    {
     "name": "stdout",
     "output_type": "stream",
     "text": [
      "{'type': 'string_too_short', 'loc': ('name',), 'msg': 'String should have at least 1 character', 'input': '', 'ctx': {'min_length': 1}, 'url': 'https://errors.pydantic.dev/2.9/v/string_too_short'}\n",
      "{'type': 'string_pattern_mismatch', 'loc': ('email',), 'msg': \"String should match pattern '.+@example\\\\.com$'\", 'input': 'cdetuma@fakedomain.com', 'ctx': {'pattern': '.+@example\\\\.com$'}, 'url': 'https://errors.pydantic.dev/2.9/v/string_pattern_mismatch'}\n",
      "{'type': 'missing', 'loc': ('compensation',), 'msg': 'Field required', 'input': {'name': '', 'email': 'cdetuma@fakedomain.com', 'birth_date': '1998-04-02', 'salary': -10, 'department': 'IT', 'elected_benefits': True}, 'url': 'https://errors.pydantic.dev/2.9/v/missing'}\n"
     ]
    }
   ],
   "source": [
    "incorrect_employee_data = {\n",
    "    \"name\": \"\",  # Даем имя нулевое (ошибка по min_lenght) | Интересно если такое для pdf file и надо ли оно тут если оно можно на фронте сделать\n",
    "    \"email\": \"cdetuma@fakedomain.com\",  # почта-хуечта\n",
    "    \"birth_date\": \"1998-04-02\",\n",
    "    \"salary\": -10,\n",
    "    \"department\": \"IT\",\n",
    "    \"elected_benefits\": True,\n",
    "    # \"compensation\": 10_0 # проебали\n",
    "}\n",
    "\n",
    "try:\n",
    "    Employee_field.model_validate(incorrect_employee_data)\n",
    "except ValidationError as e:\n",
    "    for er in e.errors():\n",
    "        print(er)"
   ]
  },
  {
   "cell_type": "code",
   "execution_count": 84,
   "metadata": {},
   "outputs": [
    {
     "data": {
      "text/plain": [
       "Employee_field(employee_id=UUID('1ecfb843-c692-49b1-8dbe-2e628128e5aa'), name='Clyde Harwell', email='charwell@example.com', department=<Department.ENGINEERING: 'ENGINEERING'>, elected_benefits=True)"
      ]
     },
     "execution_count": 84,
     "metadata": {},
     "output_type": "execute_result"
    }
   ],
   "source": [
    "employee_data = {\n",
    "    \"name\": \"Clyde Harwell\",\n",
    "    \"email\": \"charwell@example.com\",\n",
    "    \"birth_date\": \"2000-06-12\",\n",
    "    \"compensation\": 100_000,\n",
    "    \"department\": \"ENGINEERING\",\n",
    "    \"elected_benefits\": True,\n",
    "}\n",
    "\n",
    "employee = Employee_field.model_validate(employee_data)\n",
    "employee"
   ]
  },
  {
   "cell_type": "markdown",
   "metadata": {},
   "source": [
    "Обрати внимание, что не видем **compensation** в представлении Employee_field из-за repr=False"
   ]
  },
  {
   "cell_type": "code",
   "execution_count": 90,
   "metadata": {},
   "outputs": [
    {
     "name": "stdout",
     "output_type": "stream",
     "text": [
      "Пример работы alias (compensation or salary): 100000.0\n",
      "birth_date or date_of_birth: 2000-06-12\n"
     ]
    }
   ],
   "source": [
    "print(f\"Пример работы alias (compensation or salary): {employee.salary}\")\n",
    "print(f\"birth_date or date_of_birth: {employee.date_of_birth}\")"
   ]
  },
  {
   "cell_type": "code",
   "execution_count": 91,
   "metadata": {},
   "outputs": [
    {
     "ename": "ValidationError",
     "evalue": "1 validation error for Employee_field\nname\n  Field is frozen [type=frozen_field, input_value='Andrew TuGrendele', input_type=str]\n    For further information visit https://errors.pydantic.dev/2.9/v/frozen_field",
     "output_type": "error",
     "traceback": [
      "\u001b[1;31m---------------------------------------------------------------------------\u001b[0m",
      "\u001b[1;31mValidationError\u001b[0m                           Traceback (most recent call last)",
      "Cell \u001b[1;32mIn[91], line 4\u001b[0m\n\u001b[0;32m      1\u001b[0m \u001b[38;5;66;03m#### Frozen. поменяем щас department на изи, а вот name уже не сможем\u001b[39;00m\n\u001b[0;32m      3\u001b[0m employee\u001b[38;5;241m.\u001b[39mdepartment \u001b[38;5;241m=\u001b[39m \u001b[38;5;124m\"\u001b[39m\u001b[38;5;124mHR\u001b[39m\u001b[38;5;124m\"\u001b[39m\n\u001b[1;32m----> 4\u001b[0m \u001b[43memployee\u001b[49m\u001b[38;5;241;43m.\u001b[39;49m\u001b[43mname\u001b[49m \u001b[38;5;241m=\u001b[39m \u001b[38;5;124m\"\u001b[39m\u001b[38;5;124mAndrew TuGrendele\u001b[39m\u001b[38;5;124m\"\u001b[39m\n",
      "File \u001b[1;32mc:\\Users\\PKomarov\\envs\\sasha_rag\\Lib\\site-packages\\pydantic\\main.py:875\u001b[0m, in \u001b[0;36mBaseModel.__setattr__\u001b[1;34m(self, name, value)\u001b[0m\n\u001b[0;32m    872\u001b[0m             \u001b[38;5;28mself\u001b[39m\u001b[38;5;241m.\u001b[39m__pydantic_private__[name] \u001b[38;5;241m=\u001b[39m value\n\u001b[0;32m    873\u001b[0m     \u001b[38;5;28;01mreturn\u001b[39;00m\n\u001b[1;32m--> 875\u001b[0m \u001b[38;5;28;43mself\u001b[39;49m\u001b[38;5;241;43m.\u001b[39;49m\u001b[43m_check_frozen\u001b[49m\u001b[43m(\u001b[49m\u001b[43mname\u001b[49m\u001b[43m,\u001b[49m\u001b[43m \u001b[49m\u001b[43mvalue\u001b[49m\u001b[43m)\u001b[49m\n\u001b[0;32m    877\u001b[0m attr \u001b[38;5;241m=\u001b[39m \u001b[38;5;28mgetattr\u001b[39m(\u001b[38;5;28mself\u001b[39m\u001b[38;5;241m.\u001b[39m\u001b[38;5;18m__class__\u001b[39m, name, \u001b[38;5;28;01mNone\u001b[39;00m)\n\u001b[0;32m    878\u001b[0m \u001b[38;5;28;01mif\u001b[39;00m \u001b[38;5;28misinstance\u001b[39m(attr, \u001b[38;5;28mproperty\u001b[39m):\n",
      "File \u001b[1;32mc:\\Users\\PKomarov\\envs\\sasha_rag\\Lib\\site-packages\\pydantic\\main.py:939\u001b[0m, in \u001b[0;36mBaseModel._check_frozen\u001b[1;34m(self, name, value)\u001b[0m\n\u001b[0;32m    933\u001b[0m     \u001b[38;5;28;01mreturn\u001b[39;00m\n\u001b[0;32m    934\u001b[0m error: pydantic_core\u001b[38;5;241m.\u001b[39mInitErrorDetails \u001b[38;5;241m=\u001b[39m {\n\u001b[0;32m    935\u001b[0m     \u001b[38;5;124m'\u001b[39m\u001b[38;5;124mtype\u001b[39m\u001b[38;5;124m'\u001b[39m: typ,\n\u001b[0;32m    936\u001b[0m     \u001b[38;5;124m'\u001b[39m\u001b[38;5;124mloc\u001b[39m\u001b[38;5;124m'\u001b[39m: (name,),\n\u001b[0;32m    937\u001b[0m     \u001b[38;5;124m'\u001b[39m\u001b[38;5;124minput\u001b[39m\u001b[38;5;124m'\u001b[39m: value,\n\u001b[0;32m    938\u001b[0m }\n\u001b[1;32m--> 939\u001b[0m \u001b[38;5;28;01mraise\u001b[39;00m pydantic_core\u001b[38;5;241m.\u001b[39mValidationError\u001b[38;5;241m.\u001b[39mfrom_exception_data(\u001b[38;5;28mself\u001b[39m\u001b[38;5;241m.\u001b[39m\u001b[38;5;18m__class__\u001b[39m\u001b[38;5;241m.\u001b[39m\u001b[38;5;18m__name__\u001b[39m, [error])\n",
      "\u001b[1;31mValidationError\u001b[0m: 1 validation error for Employee_field\nname\n  Field is frozen [type=frozen_field, input_value='Andrew TuGrendele', input_type=str]\n    For further information visit https://errors.pydantic.dev/2.9/v/frozen_field"
     ]
    }
   ],
   "source": [
    "#### Frozen. поменяем щас department на изи, а вот name уже не сможем\n",
    "\n",
    "employee.department = \"HR\"\n",
    "employee.name = \"Andrew TuGrendele\""
   ]
  },
  {
   "cell_type": "markdown",
   "metadata": {},
   "source": [
    "#### ... в Field"
   ]
  },
  {
   "cell_type": "code",
   "execution_count": 96,
   "metadata": {},
   "outputs": [],
   "source": [
    "from pydantic import BaseModel, Field\n",
    "\n",
    "\n",
    "class Okay(BaseModel):\n",
    "    x: int = Field(default=4, title=\"X\")\n",
    "\n",
    "\n",
    "class Wrong(BaseModel):\n",
    "    x: int = Field(4, title=\"X\")\n",
    "\n",
    "\n",
    "class Gau(BaseModel):\n",
    "    x: int = Field(..., title=\"X\")\n",
    "\n",
    "\n",
    "class NotGau(BaseModel):\n",
    "    x: int = Field(title=\"X\")"
   ]
  },
  {
   "cell_type": "code",
   "execution_count": 92,
   "metadata": {},
   "outputs": [
    {
     "data": {
      "text/plain": [
       "Okay(x=4)"
      ]
     },
     "execution_count": 92,
     "metadata": {},
     "output_type": "execute_result"
    }
   ],
   "source": [
    "Okay()"
   ]
  },
  {
   "cell_type": "code",
   "execution_count": 94,
   "metadata": {},
   "outputs": [
    {
     "data": {
      "text/plain": [
       "Wrong(x=4)"
      ]
     },
     "execution_count": 94,
     "metadata": {},
     "output_type": "execute_result"
    }
   ],
   "source": [
    "Wrong()"
   ]
  },
  {
   "cell_type": "code",
   "execution_count": 97,
   "metadata": {},
   "outputs": [
    {
     "ename": "ValidationError",
     "evalue": "1 validation error for NotGau\nx\n  Field required [type=missing, input_value={}, input_type=dict]\n    For further information visit https://errors.pydantic.dev/2.9/v/missing",
     "output_type": "error",
     "traceback": [
      "\u001b[1;31m---------------------------------------------------------------------------\u001b[0m",
      "\u001b[1;31mValidationError\u001b[0m                           Traceback (most recent call last)",
      "Cell \u001b[1;32mIn[97], line 1\u001b[0m\n\u001b[1;32m----> 1\u001b[0m \u001b[43mNotGau\u001b[49m\u001b[43m(\u001b[49m\u001b[43m)\u001b[49m\n",
      "File \u001b[1;32mc:\\Users\\PKomarov\\envs\\sasha_rag\\Lib\\site-packages\\pydantic\\main.py:212\u001b[0m, in \u001b[0;36mBaseModel.__init__\u001b[1;34m(self, **data)\u001b[0m\n\u001b[0;32m    210\u001b[0m \u001b[38;5;66;03m# `__tracebackhide__` tells pytest and some other tools to omit this function from tracebacks\u001b[39;00m\n\u001b[0;32m    211\u001b[0m __tracebackhide__ \u001b[38;5;241m=\u001b[39m \u001b[38;5;28;01mTrue\u001b[39;00m\n\u001b[1;32m--> 212\u001b[0m validated_self \u001b[38;5;241m=\u001b[39m \u001b[38;5;28;43mself\u001b[39;49m\u001b[38;5;241;43m.\u001b[39;49m\u001b[43m__pydantic_validator__\u001b[49m\u001b[38;5;241;43m.\u001b[39;49m\u001b[43mvalidate_python\u001b[49m\u001b[43m(\u001b[49m\u001b[43mdata\u001b[49m\u001b[43m,\u001b[49m\u001b[43m \u001b[49m\u001b[43mself_instance\u001b[49m\u001b[38;5;241;43m=\u001b[39;49m\u001b[38;5;28;43mself\u001b[39;49m\u001b[43m)\u001b[49m\n\u001b[0;32m    213\u001b[0m \u001b[38;5;28;01mif\u001b[39;00m \u001b[38;5;28mself\u001b[39m \u001b[38;5;129;01mis\u001b[39;00m \u001b[38;5;129;01mnot\u001b[39;00m validated_self:\n\u001b[0;32m    214\u001b[0m     warnings\u001b[38;5;241m.\u001b[39mwarn(\n\u001b[0;32m    215\u001b[0m         \u001b[38;5;124m'\u001b[39m\u001b[38;5;124mA custom validator is returning a value other than `self`.\u001b[39m\u001b[38;5;130;01m\\n\u001b[39;00m\u001b[38;5;124m'\u001b[39m\n\u001b[0;32m    216\u001b[0m         \u001b[38;5;124m\"\u001b[39m\u001b[38;5;124mReturning anything other than `self` from a top level model validator isn\u001b[39m\u001b[38;5;124m'\u001b[39m\u001b[38;5;124mt supported when validating via `__init__`.\u001b[39m\u001b[38;5;130;01m\\n\u001b[39;00m\u001b[38;5;124m\"\u001b[39m\n\u001b[0;32m    217\u001b[0m         \u001b[38;5;124m'\u001b[39m\u001b[38;5;124mSee the `model_validator` docs (https://docs.pydantic.dev/latest/concepts/validators/#model-validators) for more details.\u001b[39m\u001b[38;5;124m'\u001b[39m,\n\u001b[0;32m    218\u001b[0m         category\u001b[38;5;241m=\u001b[39m\u001b[38;5;28;01mNone\u001b[39;00m,\n\u001b[0;32m    219\u001b[0m     )\n",
      "\u001b[1;31mValidationError\u001b[0m: 1 validation error for NotGau\nx\n  Field required [type=missing, input_value={}, input_type=dict]\n    For further information visit https://errors.pydantic.dev/2.9/v/missing"
     ]
    }
   ],
   "source": [
    "NotGau()"
   ]
  },
  {
   "cell_type": "code",
   "execution_count": 95,
   "metadata": {},
   "outputs": [
    {
     "ename": "ValidationError",
     "evalue": "1 validation error for Gau\nx\n  Field required [type=missing, input_value={}, input_type=dict]\n    For further information visit https://errors.pydantic.dev/2.9/v/missing",
     "output_type": "error",
     "traceback": [
      "\u001b[1;31m---------------------------------------------------------------------------\u001b[0m",
      "\u001b[1;31mValidationError\u001b[0m                           Traceback (most recent call last)",
      "Cell \u001b[1;32mIn[95], line 1\u001b[0m\n\u001b[1;32m----> 1\u001b[0m \u001b[43mGau\u001b[49m\u001b[43m(\u001b[49m\u001b[43m)\u001b[49m\n",
      "File \u001b[1;32mc:\\Users\\PKomarov\\envs\\sasha_rag\\Lib\\site-packages\\pydantic\\main.py:212\u001b[0m, in \u001b[0;36mBaseModel.__init__\u001b[1;34m(self, **data)\u001b[0m\n\u001b[0;32m    210\u001b[0m \u001b[38;5;66;03m# `__tracebackhide__` tells pytest and some other tools to omit this function from tracebacks\u001b[39;00m\n\u001b[0;32m    211\u001b[0m __tracebackhide__ \u001b[38;5;241m=\u001b[39m \u001b[38;5;28;01mTrue\u001b[39;00m\n\u001b[1;32m--> 212\u001b[0m validated_self \u001b[38;5;241m=\u001b[39m \u001b[38;5;28;43mself\u001b[39;49m\u001b[38;5;241;43m.\u001b[39;49m\u001b[43m__pydantic_validator__\u001b[49m\u001b[38;5;241;43m.\u001b[39;49m\u001b[43mvalidate_python\u001b[49m\u001b[43m(\u001b[49m\u001b[43mdata\u001b[49m\u001b[43m,\u001b[49m\u001b[43m \u001b[49m\u001b[43mself_instance\u001b[49m\u001b[38;5;241;43m=\u001b[39;49m\u001b[38;5;28;43mself\u001b[39;49m\u001b[43m)\u001b[49m\n\u001b[0;32m    213\u001b[0m \u001b[38;5;28;01mif\u001b[39;00m \u001b[38;5;28mself\u001b[39m \u001b[38;5;129;01mis\u001b[39;00m \u001b[38;5;129;01mnot\u001b[39;00m validated_self:\n\u001b[0;32m    214\u001b[0m     warnings\u001b[38;5;241m.\u001b[39mwarn(\n\u001b[0;32m    215\u001b[0m         \u001b[38;5;124m'\u001b[39m\u001b[38;5;124mA custom validator is returning a value other than `self`.\u001b[39m\u001b[38;5;130;01m\\n\u001b[39;00m\u001b[38;5;124m'\u001b[39m\n\u001b[0;32m    216\u001b[0m         \u001b[38;5;124m\"\u001b[39m\u001b[38;5;124mReturning anything other than `self` from a top level model validator isn\u001b[39m\u001b[38;5;124m'\u001b[39m\u001b[38;5;124mt supported when validating via `__init__`.\u001b[39m\u001b[38;5;130;01m\\n\u001b[39;00m\u001b[38;5;124m\"\u001b[39m\n\u001b[0;32m    217\u001b[0m         \u001b[38;5;124m'\u001b[39m\u001b[38;5;124mSee the `model_validator` docs (https://docs.pydantic.dev/latest/concepts/validators/#model-validators) for more details.\u001b[39m\u001b[38;5;124m'\u001b[39m,\n\u001b[0;32m    218\u001b[0m         category\u001b[38;5;241m=\u001b[39m\u001b[38;5;28;01mNone\u001b[39;00m,\n\u001b[0;32m    219\u001b[0m     )\n",
      "\u001b[1;31mValidationError\u001b[0m: 1 validation error for Gau\nx\n  Field required [type=missing, input_value={}, input_type=dict]\n    For further information visit https://errors.pydantic.dev/2.9/v/missing"
     ]
    }
   ],
   "source": [
    "Gau()"
   ]
  },
  {
   "cell_type": "markdown",
   "metadata": {},
   "source": [
    "Короче лучше тогда ничего не писать, чем писать ... как __лошара__"
   ]
  },
  {
   "cell_type": "markdown",
   "metadata": {},
   "source": [
    "## Working With Validators"
   ]
  },
  {
   "cell_type": "markdown",
   "metadata": {},
   "source": [
    "### Validating Models and Fields"
   ]
  },
  {
   "cell_type": "code",
   "execution_count": 209,
   "metadata": {},
   "outputs": [],
   "source": [
    "from datetime import date\n",
    "from uuid import UUID, uuid4\n",
    "from enum import Enum\n",
    "from pydantic import BaseModel, EmailStr, Field, field_validator\n",
    "\n",
    "\n",
    "class Department(Enum):\n",
    "    HR = \"HR\"\n",
    "    SALES = \"SALES\"\n",
    "    IT = \"IT\"\n",
    "    ENGINEERING = \"ENGINEERING\"\n",
    "\n",
    "\n",
    "class Employee_validation(BaseModel):\n",
    "    employee_id: UUID = Field(default_factory=uuid4, frozen=True)\n",
    "    name: str = Field(min_length=1, frozen=True)\n",
    "    email: EmailStr = Field(pattern=r\".+@example\\.com$\")\n",
    "    date_of_birth: date = Field(alias=\"birth_date\", repr=False, frozen=True)\n",
    "    salary: float = Field(alias=\"compensation\", gt=0, repr=False)\n",
    "    department: Department\n",
    "    elected_benefits: bool\n",
    "\n",
    "    @field_validator(\"date_of_birth\")\n",
    "    @classmethod\n",
    "    def check_valid_age(cls, date_of_birth: date) -> date:\n",
    "        today = date.today()\n",
    "        eighteen_years_ago = date(today.year - 18, today.month, today.day)\n",
    "\n",
    "        if date_of_birth > eighteen_years_ago:\n",
    "            raise ValueError(\"Employees must be at least 18 years old.\")\n",
    "\n",
    "        return date_of_birth"
   ]
  },
  {
   "cell_type": "markdown",
   "metadata": {},
   "source": [
    "In this block, you import **field_validator** and use it to decorate a class method in Employee called __.check_valid_age()__. Field validators must be defined a class methods. In .check_valid_age(), you calculate today’s date but eighteen years ago. If the employee’s date_of_birth is after that date, an error is raised.\n",
    "\n",
    "To see how this validator works, check out this example:"
   ]
  },
  {
   "cell_type": "code",
   "execution_count": 211,
   "metadata": {},
   "outputs": [
    {
     "name": "stdout",
     "output_type": "stream",
     "text": [
      "{'type': 'value_error', 'loc': ('birth_date',), 'msg': 'Value error, Employees must be at least 18 years old.', 'input': datetime.date(2007, 10, 6), 'ctx': {'error': ValueError('Employees must be at least 18 years old.')}, 'url': 'https://errors.pydantic.dev/2.9/v/value_error'}\n",
      "Value error, Employees must be at least 18 years old.\n"
     ]
    }
   ],
   "source": [
    "from datetime import date, timedelta\n",
    "\n",
    "\n",
    "young_employee_data = {\n",
    "    \"name\": \"Jake Bar\",\n",
    "    \"email\": \"jbar@example.com\",\n",
    "    \"birth_date\": date.today() - timedelta(days=365 * 17),\n",
    "    \"compensation\": 90_000,\n",
    "    \"department\": \"SALES\",\n",
    "    \"elected_benefits\": True,\n",
    "}\n",
    "\n",
    "## Короче, написали свою функцию для проверки возраста и щас подадим говно\n",
    "\n",
    "try:\n",
    "    Employee_validation.model_validate(young_employee_data)\n",
    "except ValidationError as e:\n",
    "    for er in e.errors():\n",
    "        print(er)\n",
    "\n",
    "    print(e.errors()[0][\"msg\"])"
   ]
  },
  {
   "cell_type": "markdown",
   "metadata": {},
   "source": [
    "### Using Validation Decorators to Validate Functions"
   ]
  },
  {
   "cell_type": "code",
   "execution_count": 112,
   "metadata": {},
   "outputs": [],
   "source": [
    "from typing import Self\n",
    "from datetime import date\n",
    "from uuid import UUID, uuid4\n",
    "from enum import Enum\n",
    "from pydantic import (\n",
    "    BaseModel,\n",
    "    EmailStr,\n",
    "    Field,\n",
    "    field_validator,\n",
    "    model_validator,\n",
    ")\n",
    "\n",
    "\n",
    "class Department(Enum):\n",
    "    HR = \"HR\"\n",
    "    SALES = \"SALES\"\n",
    "    IT = \"IT\"\n",
    "    ENGINEERING = \"ENGINEERING\"\n",
    "\n",
    "\n",
    "class Employee_valid_2(BaseModel):\n",
    "    employee_id: UUID = Field(default_factory=uuid4, frozen=True)\n",
    "    name: str = Field(min_length=1, frozen=True)\n",
    "    email: EmailStr = Field(pattern=r\".+@example\\.com$\")\n",
    "    date_of_birth: date = Field(alias=\"birth_date\", repr=False, frozen=True)\n",
    "    salary: float = Field(alias=\"compensation\", gt=0, repr=False)\n",
    "    department: Department\n",
    "    elected_benefits: bool\n",
    "\n",
    "    @field_validator(\"date_of_birth\")\n",
    "    @classmethod\n",
    "    def check_valid_age(cls, date_of_birth: date) -> date:\n",
    "        today = date.today()\n",
    "        eighteen_years_ago = date(today.year - 18, today.month, today.day)\n",
    "\n",
    "        if date_of_birth > eighteen_years_ago:\n",
    "            raise ValueError(\"Employees must be at least 18 years old.\")\n",
    "\n",
    "        return date_of_birth\n",
    "\n",
    "    @model_validator(mode=\"after\")\n",
    "    def check_it_benefits(self) -> Self:\n",
    "        \"\"\"\n",
    "        Высрали новый декоратор. Почему нужен другой я не понял.\n",
    "        Тут короче суть такая, что IT департамент benefits не получает, а нам вдруг\n",
    "        сунули такую дату:\n",
    "            department: IT\n",
    "            elected_benefits: True\n",
    "        С точки зрения данных, все четко. Но мы сами считаем такие данные ошибкой\n",
    "\n",
    "        When you set mode to after in @model_validator, Pydantic waits until after\n",
    "        you’ve instantiated your model to run .check_it_benefits().\n",
    "        \"\"\"\n",
    "        department = self.department\n",
    "        elected_benefits = self.elected_benefits\n",
    "\n",
    "        if department == Department.IT and elected_benefits:\n",
    "            raise ValueError(\n",
    "                \"IT employees are contractors and don't qualify for benefits\"\n",
    "            )\n",
    "        return self"
   ]
  },
  {
   "cell_type": "code",
   "execution_count": 114,
   "metadata": {},
   "outputs": [
    {
     "name": "stdout",
     "output_type": "stream",
     "text": [
      "{'type': 'value_error', 'loc': (), 'msg': \"Value error, IT employees are contractors and don't qualify for benefits\", 'input': {'name': 'Alexis Tau', 'email': 'ataue@example.com', 'birth_date': '2001-04-12', 'compensation': 100000, 'department': 'IT', 'elected_benefits': True}, 'ctx': {'error': ValueError(\"IT employees are contractors and don't qualify for benefits\")}, 'url': 'https://errors.pydantic.dev/2.9/v/value_error'}\n",
      "Value error, IT employees are contractors and don't qualify for benefits\n"
     ]
    }
   ],
   "source": [
    "new_employee = {\n",
    "    \"name\": \"Alexis Tau\",\n",
    "    \"email\": \"ataue@example.com\",\n",
    "    \"birth_date\": \"2001-04-12\",\n",
    "    \"compensation\": 100_000,\n",
    "    \"department\": \"IT\",\n",
    "    \"elected_benefits\": True,\n",
    "}\n",
    "\n",
    "try:\n",
    "    Employee_valid_2.model_validate(new_employee)\n",
    "except ValidationError as e:\n",
    "    for er in e.errors():\n",
    "        print(er)\n",
    "\n",
    "    print(e.errors()[0][\"msg\"])"
   ]
  },
  {
   "cell_type": "markdown",
   "metadata": {},
   "source": [
    "### Using Validation Decorators to Validate Functions"
   ]
  },
  {
   "cell_type": "code",
   "execution_count": 115,
   "metadata": {},
   "outputs": [],
   "source": [
    "import time\n",
    "from typing import Annotated\n",
    "from pydantic import PositiveFloat, Field, EmailStr, validate_call\n",
    "\n",
    "\n",
    "@validate_call\n",
    "def send_invoice(\n",
    "    client_name: Annotated[str, Field(min_length=1)],\n",
    "    client_email: EmailStr,\n",
    "    items_purchased: list[str],\n",
    "    amount_owed: PositiveFloat,\n",
    ") -> str:\n",
    "\n",
    "    email_str = f\"\"\"\n",
    "    Dear {client_name}, \\n\n",
    "    Thank you for choosing xyz inc! You\n",
    "    owe ${amount_owed:,.2f} for the following items: \\n\n",
    "    {items_purchased}\n",
    "    \"\"\"\n",
    "\n",
    "    print(f\"Sending email to {client_email}...\")\n",
    "    time.sleep(2)\n",
    "\n",
    "    return email_str"
   ]
  },
  {
   "cell_type": "code",
   "execution_count": 116,
   "metadata": {},
   "outputs": [
    {
     "name": "stdout",
     "output_type": "stream",
     "text": [
      "{'type': 'string_too_short', 'loc': ('client_name',), 'msg': 'String should have at least 1 character', 'input': '', 'ctx': {'min_length': 1}, 'url': 'https://errors.pydantic.dev/2.9/v/string_too_short'}\n",
      "{'type': 'value_error', 'loc': ('client_email',), 'msg': 'value is not a valid email address: An email address must have an @-sign.', 'input': 'ajolawsonfakedomain.com', 'ctx': {'reason': 'An email address must have an @-sign.'}}\n",
      "{'type': 'string_type', 'loc': ('items_purchased', 2), 'msg': 'Input should be a valid string', 'input': 17, 'url': 'https://errors.pydantic.dev/2.9/v/string_type'}\n",
      "{'type': 'greater_than', 'loc': ('amount_owed',), 'msg': 'Input should be greater than 0', 'input': 0, 'ctx': {'gt': 0.0}, 'url': 'https://errors.pydantic.dev/2.9/v/greater_than'}\n"
     ]
    }
   ],
   "source": [
    "try:\n",
    "    send_invoice(\n",
    "        client_name=\"\",\n",
    "        client_email=\"ajolawsonfakedomain.com\",\n",
    "        items_purchased=[\"pie\", \"cookie\", 17],\n",
    "        amount_owed=0,\n",
    "    )\n",
    "except ValidationError as e:\n",
    "    for er in e.errors():\n",
    "        print(er)"
   ]
  },
  {
   "cell_type": "markdown",
   "metadata": {},
   "source": [
    "# Rag Document Entity"
   ]
  },
  {
   "cell_type": "markdown",
   "metadata": {},
   "source": [
    "PydanticDeprecatedSince20: Pydantic V1 style `@validator` validators are deprecated."
   ]
  },
  {
   "cell_type": "code",
   "execution_count": 184,
   "metadata": {},
   "outputs": [],
   "source": [
    "from pydantic import BaseModel, Field, field_validator\n",
    "from uuid import UUID\n",
    "\n",
    "\n",
    "class Document(BaseModel):\n",
    "    trace_id: UUID = Field(\n",
    "        default_factory=uuid4,\n",
    "        frozen=True,\n",
    "        description=\"Уникальный идентификатор, сгенерированный на фронтенде\",\n",
    "    )\n",
    "    file_name: str = Field(description=\"Имя загруженного файла\")  # pattern=r\".+pdf$\"\n",
    "    file_bytes: bytes = Field(\n",
    "        description=\"Содержимое файла в байтах\"\n",
    "    )  # вот тут бы че нить\n",
    "\n",
    "    @field_validator(\"file_name\")\n",
    "    def validate_file_extension(cls, v):\n",
    "        if not v.lower().endswith(\".pdf\"):\n",
    "            raise ValueError(\"Файл должен иметь расширение .pdf\")\n",
    "        return v\n",
    "\n",
    "    @field_validator(\"file_bytes\")\n",
    "    def validate_pdf_content(cls, v):\n",
    "        if not v.startswith(b\"%PDF\"):\n",
    "            raise ValueError(\"Содержимое файла не является допустимым PDF\")\n",
    "        return v\n",
    "\n",
    "    @field_validator(\"file_bytes\")\n",
    "    def validate_file_size(cls, v):\n",
    "        max_size = 1 * 1024 * 1024  # 1 MB\n",
    "        min_size = 15 * 1024\n",
    "        if len(v) > max_size:\n",
    "            raise ValueError(\"Размер файла превышает 1 MB\")\n",
    "        elif len(v) < min_size:\n",
    "            raise ValueError(\"Файл меньше члена Сани\")\n",
    "        return v"
   ]
  },
  {
   "cell_type": "markdown",
   "metadata": {},
   "source": [
    "Моделируем файлы с фронта, которые летят в наш безобидный Dao?"
   ]
  },
  {
   "cell_type": "code",
   "execution_count": 185,
   "metadata": {},
   "outputs": [],
   "source": [
    "import os\n",
    "\n",
    "\n",
    "def read_files_as_bytes(directory_path: str):\n",
    "    files_data = []\n",
    "    supported_extensions = [\n",
    "        \".pdf\",\n",
    "        \".csv\",\n",
    "        \".doc\",\n",
    "        \".docx\",\n",
    "        \".ipynb\",\n",
    "        \".txt\",\n",
    "    ]  # Можно добавить другие форматы\n",
    "\n",
    "    for filename in os.listdir(directory_path):\n",
    "        file_path = os.path.join(directory_path, filename)\n",
    "\n",
    "        # Пропускаем, если это не файл\n",
    "        if not os.path.isfile(file_path):\n",
    "            print(f\"Пропуск {file_path}, это не файл\")\n",
    "            continue\n",
    "\n",
    "        # Проверка расширения файла\n",
    "        _, file_extension = os.path.splitext(filename)\n",
    "        if file_extension.lower() not in supported_extensions:\n",
    "            print(f\"Пропуск файла {filename}, неподдерживаемый тип {file_extension}\")\n",
    "            continue\n",
    "\n",
    "        # Читаем содержимое файла в байтах\n",
    "        try:\n",
    "            with open(file_path, \"rb\") as f:\n",
    "                file_bytes = f.read()\n",
    "            files_data.append({\"file_name\": filename, \"file_bytes\": file_bytes})\n",
    "            print(f\"Файл {filename} успешно считан\")\n",
    "        except Exception as e:\n",
    "            print(f\"Ошибка при чтении файла {filename}: {e}\")\n",
    "\n",
    "    return files_data"
   ]
  },
  {
   "cell_type": "code",
   "execution_count": 186,
   "metadata": {},
   "outputs": [
    {
     "name": "stdout",
     "output_type": "stream",
     "text": [
      "Файл data_example.csv успешно считан\n",
      "Файл empty.txt успешно считан\n",
      "Файл empty_pdf.pdf успешно считан\n",
      "Файл example_pdf.pdf успешно считан\n",
      "Файл LSTM_notebook.ipynb успешно считан\n",
      "Файл too_big_pdf.pdf успешно считан\n",
      "Файл word_doc.docx успешно считан\n"
     ]
    }
   ],
   "source": [
    "front_data_examples = read_files_as_bytes(\"../data\")"
   ]
  },
  {
   "cell_type": "code",
   "execution_count": 187,
   "metadata": {},
   "outputs": [
    {
     "name": "stdout",
     "output_type": "stream",
     "text": [
      "Working with: data_example.csv\n",
      "File name: data_example.csv | Value error, Файл должен иметь расширение .pdf\n",
      "File name: data_example.csv | Value error, Содержимое файла не является допустимым PDF\n",
      "Working with: empty.txt\n",
      "File name: empty.txt | Value error, Файл должен иметь расширение .pdf\n",
      "File name: empty.txt | Value error, Содержимое файла не является допустимым PDF\n",
      "Working with: empty_pdf.pdf\n",
      "File name: empty_pdf.pdf | Value error, Файл меньше члена Сани\n",
      "Working with: example_pdf.pdf\n",
      "Working with: LSTM_notebook.ipynb\n",
      "File name: LSTM_notebook.ipynb | Value error, Файл должен иметь расширение .pdf\n",
      "File name: LSTM_notebook.ipynb | Value error, Содержимое файла не является допустимым PDF\n",
      "Working with: too_big_pdf.pdf\n",
      "File name: too_big_pdf.pdf | Value error, Размер файла превышает 1 MB\n",
      "Working with: word_doc.docx\n",
      "File name: word_doc.docx | Value error, Файл должен иметь расширение .pdf\n",
      "File name: word_doc.docx | Value error, Содержимое файла не является допустимым PDF\n"
     ]
    }
   ],
   "source": [
    "### Погнали нахуй\n",
    "documents = []\n",
    "\n",
    "for file_data in front_data_examples:\n",
    "    file_name = file_data[\"file_name\"]\n",
    "    file_bytes = file_data[\"file_bytes\"]\n",
    "\n",
    "    print(f\"Working with: {file_name}\")\n",
    "    try:\n",
    "        document = Document(file_name=file_name, file_bytes=file_bytes)\n",
    "\n",
    "        documents.append(document)\n",
    "    except ValidationError as e:\n",
    "        for er in e.errors():\n",
    "            print(f'File name: {file_name} | {er[\"msg\"]}')"
   ]
  }
 ],
 "metadata": {
  "kernelspec": {
   "display_name": "Python 3",
   "language": "python",
   "name": "python3"
  },
  "language_info": {
   "codemirror_mode": {
    "name": "ipython",
    "version": 3
   },
   "file_extension": ".py",
   "mimetype": "text/x-python",
   "name": "python",
   "nbconvert_exporter": "python",
   "pygments_lexer": "ipython3",
   "version": "3.12.6"
  }
 },
 "nbformat": 4,
 "nbformat_minor": 2
}
