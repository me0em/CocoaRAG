{
 "cells": [
  {
   "cell_type": "code",
   "execution_count": 1,
   "metadata": {},
   "outputs": [
    {
     "name": "stdout",
     "output_type": "stream",
     "text": [
      "Python 3.12.6\n"
     ]
    }
   ],
   "source": [
    "!python --version"
   ]
  },
  {
   "cell_type": "markdown",
   "metadata": {},
   "source": [
    "# Pydantic: Simplimfying Data Validation in Python\n",
    "\n",
    "Pydantic provides four ways to create schemas and perform validation and serialization:\n",
    "\n",
    "* **BaseModel** — Pydantic's own super class with many common utilities available via instance methods.\n",
    "* **Pydantic dataclasses** — a wrapper around standard dataclasses with additional validation performed.\n",
    "* **TypeAdapter** — a general way to adapt any type for validation and serialization. This allows types like TypedDict and NamedTuple to be validated as well as simple types (like int or timedelta) — all types supported can be used with TypeAdapter.\n",
    "* **validate_call** — a decorator to perform validation when calling a function."
   ]
  },
  {
   "cell_type": "code",
   "execution_count": 9,
   "metadata": {},
   "outputs": [
    {
     "name": "stdout",
     "output_type": "stream",
     "text": [
      "2.9.2\n"
     ]
    }
   ],
   "source": [
    "import pydantic\n",
    "\n",
    "print(pydantic.__version__)"
   ]
  },
  {
   "cell_type": "markdown",
   "metadata": {},
   "source": [
    "#### 1. Example"
   ]
  },
  {
   "cell_type": "code",
   "execution_count": null,
   "metadata": {},
   "outputs": [],
   "source": [
    "from datetime import date\n",
    "from uuid import UUID, uuid4\n",
    "from enum import Enum\n",
    "from pydantic import BaseModel, EmailStr\n",
    "\n",
    "class Department(Enum):\n",
    "    HR = \"HR\"\n",
    "    SALES = \"SALES\"\n",
    "    IT = \"IT\"\n",
    "    ENGINEERING = \"ENGINEERING\"\n",
    "\n",
    "class Employee(BaseModel):\n",
    "    employee_id: UUID = uuid4()\n",
    "    name: str\n",
    "    email: EmailStr\n",
    "    date_of_birth: date\n",
    "    salary: float\n",
    "    department: Department\n",
    "    elected_benefits: bool"
   ]
  },
  {
   "cell_type": "markdown",
   "metadata": {},
   "source": [
    "* **employee_id**: This is the UUID for the employee you want to store information for. By using the UUID annotation, __Pydantic ensures this field is always a valid UUID__. Each instance of Employee will be assigned a UUID by default, as you specified by calling uuid4().\n",
    "* **name**: The employee’s name, which Pydantic expects to be a string.\n",
    "* **email**: __Pydantic will ensure that each employee email is valid by using Python’s email-validator library under the hood.__\n",
    "* **date_of_birth**: Each employee’s date of birth must be a valid date, as annotated by date from Python’s datetime module. If you pass a string into date_of_birth, **Pydantic will attempt to parse and convert it to a date object**.\n",
    "* **salary**: This is the employee’s salary, and it’s expected to be a float.\n",
    "* **department**: Each employee’s department must be one of HR, SALES, IT, or ENGINEERING, as defined in your Department enum.\n",
    "elected_benefits: This field stores whether the employee has elected benefits, and Pydantic expects it to be a Boolean."
   ]
  },
  {
   "cell_type": "markdown",
   "metadata": {},
   "source": [
    "Employee(\n",
    "    name=\"Chris DeTuma\",\n",
    "    email=\"cdetuma@example.com\",\n",
    "    date_of_birth=\"1998-04-02\",\n",
    "    salary=123_000.00,\n",
    "    department=\"IT\",\n",
    "    elected_benefits=True,\n",
    ")"
   ]
  },
  {
   "cell_type": "code",
   "execution_count": null,
   "metadata": {},
   "outputs": [],
   "source": []
  }
 ],
 "metadata": {
  "kernelspec": {
   "display_name": "Python 3",
   "language": "python",
   "name": "python3"
  },
  "language_info": {
   "codemirror_mode": {
    "name": "ipython",
    "version": 3
   },
   "file_extension": ".py",
   "mimetype": "text/x-python",
   "name": "python",
   "nbconvert_exporter": "python",
   "pygments_lexer": "ipython3",
   "version": "3.12.6"
  }
 },
 "nbformat": 4,
 "nbformat_minor": 2
}
